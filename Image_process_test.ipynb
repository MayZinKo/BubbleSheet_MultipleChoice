{
 "cells": [
  {
   "cell_type": "code",
   "execution_count": 3,
   "id": "17b482fb",
   "metadata": {},
   "outputs": [],
   "source": [
    "from imutils.perspective import four_point_transform\n",
    "from imutils import contours\n",
    "import numpy as np\n",
    "import argparse\n",
    "import imutils\n",
    "import cv2"
   ]
  },
  {
   "cell_type": "code",
   "execution_count": 33,
   "id": "e8a69470",
   "metadata": {},
   "outputs": [],
   "source": [
    "image = cv2.imread(\"omr_test_12.jpg\")"
   ]
  },
  {
   "cell_type": "code",
   "execution_count": 96,
   "id": "1d2e1100",
   "metadata": {},
   "outputs": [],
   "source": [
    "#image"
   ]
  },
  {
   "cell_type": "code",
   "execution_count": 35,
   "id": "5258f0de",
   "metadata": {},
   "outputs": [
    {
     "data": {
      "text/plain": [
       "3508"
      ]
     },
     "execution_count": 35,
     "metadata": {},
     "output_type": "execute_result"
    }
   ],
   "source": [
    "len(image)"
   ]
  },
  {
   "cell_type": "code",
   "execution_count": 36,
   "id": "40d4afd7",
   "metadata": {},
   "outputs": [],
   "source": [
    "gray = cv2.cvtColor(image, cv2.COLOR_BGR2GRAY)"
   ]
  },
  {
   "cell_type": "code",
   "execution_count": 95,
   "id": "d1be65d0",
   "metadata": {},
   "outputs": [],
   "source": [
    "#gray"
   ]
  },
  {
   "cell_type": "code",
   "execution_count": 38,
   "id": "72e29ca5",
   "metadata": {},
   "outputs": [
    {
     "data": {
      "text/plain": [
       "2550"
      ]
     },
     "execution_count": 38,
     "metadata": {},
     "output_type": "execute_result"
    }
   ],
   "source": [
    "len(gray[0])"
   ]
  },
  {
   "cell_type": "code",
   "execution_count": 39,
   "id": "41629c10",
   "metadata": {},
   "outputs": [],
   "source": [
    "blurred = cv2.GaussianBlur(gray, (5, 5), 0)"
   ]
  },
  {
   "cell_type": "code",
   "execution_count": 40,
   "id": "9a467160",
   "metadata": {},
   "outputs": [],
   "source": [
    "edged = cv2.Canny(blurred, 75, 200)"
   ]
  },
  {
   "cell_type": "code",
   "execution_count": 94,
   "id": "51b89841",
   "metadata": {},
   "outputs": [],
   "source": [
    "#edged"
   ]
  },
  {
   "cell_type": "code",
   "execution_count": 61,
   "id": "cbd1a5b1",
   "metadata": {},
   "outputs": [],
   "source": [
    "cnts = cv2.findContours(edged.copy(), cv2.RETR_EXTERNAL, cv2.CHAIN_APPROX_SIMPLE)"
   ]
  },
  {
   "cell_type": "code",
   "execution_count": 63,
   "id": "e31f2dde",
   "metadata": {},
   "outputs": [],
   "source": [
    "cnts = imutils.grab_contours(cnts)"
   ]
  },
  {
   "cell_type": "code",
   "execution_count": 93,
   "id": "30f849d8",
   "metadata": {},
   "outputs": [],
   "source": [
    "#cnts"
   ]
  },
  {
   "cell_type": "code",
   "execution_count": 65,
   "id": "72fe6830",
   "metadata": {},
   "outputs": [
    {
     "data": {
      "text/plain": [
       "64"
      ]
     },
     "execution_count": 65,
     "metadata": {},
     "output_type": "execute_result"
    }
   ],
   "source": [
    "len(cnts)"
   ]
  },
  {
   "cell_type": "code",
   "execution_count": 66,
   "id": "a34ceb2c",
   "metadata": {},
   "outputs": [],
   "source": [
    "if len(cnts) > 0:\n",
    "    cnts = sorted(cnts, key=cv2.contourArea, reverse=True)\n",
    "    \n",
    "    for c in cnts:\n",
    "        peri = cv2.arcLength(c, True)\n",
    "        approx = cv2.approxPolyDP(c, 0.02 * peri, True)    \n",
    "        if len(approx) == 4:\n",
    "            break"
   ]
  },
  {
   "cell_type": "code",
   "execution_count": 92,
   "id": "eb1de0f3",
   "metadata": {},
   "outputs": [],
   "source": [
    "#approx"
   ]
  },
  {
   "cell_type": "code",
   "execution_count": 68,
   "id": "f701b3e4",
   "metadata": {},
   "outputs": [],
   "source": [
    "paper = four_point_transform(image, approx.reshape(4,2))"
   ]
  },
  {
   "cell_type": "code",
   "execution_count": 72,
   "id": "1a0032cc",
   "metadata": {},
   "outputs": [],
   "source": [
    "warped = four_point_transform(gray, approx.reshape(4,2))"
   ]
  },
  {
   "cell_type": "code",
   "execution_count": null,
   "id": "0dc3dcc8",
   "metadata": {},
   "outputs": [],
   "source": []
  },
  {
   "cell_type": "code",
   "execution_count": 91,
   "id": "10a0c471",
   "metadata": {},
   "outputs": [],
   "source": [
    "#warped"
   ]
  },
  {
   "cell_type": "code",
   "execution_count": 74,
   "id": "fd19db9a",
   "metadata": {},
   "outputs": [],
   "source": [
    "paper = cv2.resize(paper,(500, 642))"
   ]
  },
  {
   "cell_type": "code",
   "execution_count": 76,
   "id": "0f12c73b",
   "metadata": {},
   "outputs": [],
   "source": [
    "thresh = cv2.threshold(warped, 0, 255, cv2.THRESH_BINARY_INV | cv2.THRESH_OTSU)[1]"
   ]
  },
  {
   "cell_type": "code",
   "execution_count": 78,
   "id": "ab3da7bf",
   "metadata": {},
   "outputs": [],
   "source": [
    "resized_image = cv2.resize(thresh,(500,642)).copy()"
   ]
  },
  {
   "cell_type": "code",
   "execution_count": 80,
   "id": "ab77f66d",
   "metadata": {},
   "outputs": [],
   "source": [
    "cropped_image = resized_image[341:641, 3:166].copy() # for resized to 500 image\n",
    "cropped_image_2 = resized_image[341:641, 168:335].copy()\n",
    "cropped_image_3 = resized_image[341:641, 338:497].copy()"
   ]
  },
  {
   "cell_type": "code",
   "execution_count": 97,
   "id": "0abe2b81",
   "metadata": {},
   "outputs": [],
   "source": [
    "cnts = cv2.findContours(cropped_image.copy(), cv2.RETR_EXTERNAL, cv2.CHAIN_APPROX_SIMPLE)\n",
    "#cnts = cnts[0] if imutils.is_cv2() else cnts[1]"
   ]
  },
  {
   "cell_type": "code",
   "execution_count": 98,
   "id": "bc361dd0",
   "metadata": {},
   "outputs": [],
   "source": [
    "cnts = imutils.grab_contours(cnts)"
   ]
  },
  {
   "cell_type": "code",
   "execution_count": null,
   "id": "528b53e7",
   "metadata": {},
   "outputs": [],
   "source": [
    "#cnts"
   ]
  },
  {
   "cell_type": "code",
   "execution_count": 104,
   "id": "9e56b9ce",
   "metadata": {},
   "outputs": [],
   "source": [
    "questionCnts = []\n",
    "for c in cnts:\n",
    "    (cx, cy, cw, ch) = cv2.boundingRect(c)\n",
    "    car = cw / float(ch)\n",
    "    if cw >= 9 and ch >= 9 and car >= 0.9 and car <= 1.1:\n",
    "        questionCnts.append(c)"
   ]
  },
  {
   "cell_type": "code",
   "execution_count": null,
   "id": "f6a3b34d",
   "metadata": {},
   "outputs": [],
   "source": [
    "#questionCnts"
   ]
  },
  {
   "cell_type": "code",
   "execution_count": 106,
   "id": "c9a6a5bb",
   "metadata": {},
   "outputs": [
    {
     "data": {
      "text/plain": [
       "47"
      ]
     },
     "execution_count": 106,
     "metadata": {},
     "output_type": "execute_result"
    }
   ],
   "source": [
    "len(questionCnts)"
   ]
  },
  {
   "cell_type": "code",
   "execution_count": 107,
   "id": "115f4019",
   "metadata": {},
   "outputs": [],
   "source": [
    "questionCnts = contours.sort_contours(questionCnts, method=\"top-to-bottom\")[0]"
   ]
  },
  {
   "cell_type": "code",
   "execution_count": 110,
   "id": "3cdef54f",
   "metadata": {},
   "outputs": [],
   "source": [
    "ANSWER_KEY = {0:1, 1:4, 2:3, 3:3, 4:1, 5:1, 6:4, 7:0, 8:3, 9:1}"
   ]
  },
  {
   "cell_type": "code",
   "execution_count": 148,
   "id": "5ad9c876",
   "metadata": {},
   "outputs": [
    {
     "name": "stdout",
     "output_type": "stream",
     "text": [
      "Inside 3 3\n",
      "Inside 3 3\n",
      "Inside 0 0\n",
      "Inside 0 0\n",
      "Inside 0 0\n",
      "Inside 0 0\n",
      "Inside 0 0\n",
      "Inside 1 1\n"
     ]
    }
   ],
   "source": [
    "correct = 0\n",
    "for (q, i) in enumerate(np.arange(0, len(questionCnts), 5)):\n",
    "   \n",
    "    cnts = contours.sort_contours(questionCnts[i:i+5])[0]\n",
    "    \n",
    "    bubbled = None\n",
    "    for (j, c) in enumerate(cnts):\n",
    "        \n",
    "        mask = np.zeros(cropped_image.shape, dtype=\"uint8\")\n",
    "        cv2.drawContours(mask, [c], -1, 255, -1)\n",
    "        mask = cv2.bitwise_and(cropped_image, cropped_image, mask=mask)\n",
    "        total = cv2.countNonZero(mask)\n",
    "        if bubbled is None or total > bubbled[0]:\n",
    "            bubbled = (total, j)\n",
    "        color = (0, 0, 255)\n",
    "        k = ANSWER_KEY[q]\n",
    "        #print(k,bubbled[1])\n",
    "        if k == bubbled[1]:\n",
    "            print('Inside',k,bubbled[1])\n",
    "            color = (0, 255, 0)\n",
    "            correct += 1\n",
    "            \n",
    "        [cx, cy, cw, ch] = cv2.boundingRect(cnts[k])\n",
    "        cv2.drawContours(paper, [cnts[k]], -1, color, 2, offset=(3, 341))"
   ]
  },
  {
   "cell_type": "code",
   "execution_count": 112,
   "id": "fa3e22e1",
   "metadata": {},
   "outputs": [],
   "source": [
    "mask = np.zeros(cropped_image.shape, dtype=\"uint8\")"
   ]
  },
  {
   "cell_type": "code",
   "execution_count": 113,
   "id": "3f99bdaa",
   "metadata": {},
   "outputs": [
    {
     "data": {
      "text/plain": [
       "array([[0, 0, 0, ..., 0, 0, 0],\n",
       "       [0, 0, 0, ..., 0, 0, 0],\n",
       "       [0, 0, 0, ..., 0, 0, 0],\n",
       "       ...,\n",
       "       [0, 0, 0, ..., 0, 0, 0],\n",
       "       [0, 0, 0, ..., 0, 0, 0],\n",
       "       [0, 0, 0, ..., 0, 0, 0]], dtype=uint8)"
      ]
     },
     "execution_count": 113,
     "metadata": {},
     "output_type": "execute_result"
    }
   ],
   "source": [
    "mask"
   ]
  },
  {
   "cell_type": "code",
   "execution_count": 114,
   "id": "eda22c93",
   "metadata": {},
   "outputs": [
    {
     "data": {
      "text/plain": [
       "300"
      ]
     },
     "execution_count": 114,
     "metadata": {},
     "output_type": "execute_result"
    }
   ],
   "source": [
    "len(mask)"
   ]
  },
  {
   "cell_type": "code",
   "execution_count": 115,
   "id": "84dd50b8",
   "metadata": {},
   "outputs": [
    {
     "data": {
      "text/plain": [
       "<enumerate at 0x7f899d81fa00>"
      ]
     },
     "execution_count": 115,
     "metadata": {},
     "output_type": "execute_result"
    }
   ],
   "source": [
    "enumerate(cnts)"
   ]
  },
  {
   "cell_type": "code",
   "execution_count": null,
   "id": "7c870638",
   "metadata": {},
   "outputs": [],
   "source": []
  }
 ],
 "metadata": {
  "kernelspec": {
   "display_name": "Python 3 (ipykernel)",
   "language": "python",
   "name": "python3"
  },
  "language_info": {
   "codemirror_mode": {
    "name": "ipython",
    "version": 3
   },
   "file_extension": ".py",
   "mimetype": "text/x-python",
   "name": "python",
   "nbconvert_exporter": "python",
   "pygments_lexer": "ipython3",
   "version": "3.9.7"
  }
 },
 "nbformat": 4,
 "nbformat_minor": 5
}
